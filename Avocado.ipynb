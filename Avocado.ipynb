{
  "nbformat": 4,
  "nbformat_minor": 0,
  "metadata": {
    "colab": {
      "name": "Project1_ahepp1.ipynb",
      "provenance": [],
      "collapsed_sections": []
    },
    "kernelspec": {
      "name": "python3",
      "display_name": "Python 3"
    }
  },
  "cells": [
    {
      "cell_type": "markdown",
      "metadata": {
        "id": "70kcUjaHaZxU",
        "colab_type": "text"
      },
      "source": [
        ""
      ]
    },
    {
      "cell_type": "code",
      "metadata": {
        "id": "IKITvflnSphR",
        "colab_type": "code",
        "outputId": "0cabb345-57db-40aa-b342-2ddf058a2f1b",
        "colab": {
          "base_uri": "https://localhost:8080/",
          "height": 136
        }
      },
      "source": [
        "import pandas as pd\n",
        "import matplotlib.pyplot as plt\n",
        "import numpy as np\n",
        "import statsmodels as sm\n",
        "import sklearn as skl\n",
        "import statsmodels.formula.api as smf\n",
        "import sklearn.linear_model as lm\n",
        "\n",
        "# Data from https://www.kaggle.com/neuromusic/avocado-prices\n",
        "data = pd.read_csv('avocado.csv')\n",
        "print(data.head(4))"
      ],
      "execution_count": 0,
      "outputs": [
        {
          "output_type": "stream",
          "text": [
            "   Unnamed: 0        Date  AveragePrice  ...          type  year  region\n",
            "0           0  2015-12-27          1.33  ...  conventional  2015  Albany\n",
            "1           1  2015-12-20          1.35  ...  conventional  2015  Albany\n",
            "2           2  2015-12-13          0.93  ...  conventional  2015  Albany\n",
            "3           3  2015-12-06          1.08  ...  conventional  2015  Albany\n",
            "\n",
            "[4 rows x 14 columns]\n"
          ],
          "name": "stdout"
        }
      ]
    },
    {
      "cell_type": "markdown",
      "metadata": {
        "id": "WhevxoDYaGL-",
        "colab_type": "text"
      },
      "source": [
        "#Crude Plots and Basic Data Intuition"
      ]
    },
    {
      "cell_type": "code",
      "metadata": {
        "id": "0tRkz86US5r4",
        "colab_type": "code",
        "outputId": "a423a573-9415-44da-c530-32be47257959",
        "colab": {
          "base_uri": "https://localhost:8080/",
          "height": 312
        }
      },
      "source": [
        "# Split data into organic and conventional (binary split)\n",
        "price = data['AveragePrice']\n",
        "organic = []\n",
        "for i in data['type']:\n",
        "  if i=='organic':\n",
        "    organic.append(1)\n",
        "  else:\n",
        "    organic.append(0)\n",
        "\n",
        "plt.scatter(price, organic)\n",
        "plt.title(\"Avocado Price vs Type\")\n",
        "plt.xlabel(\"Price\")\n",
        "plt.ylabel(\"Type\")"
      ],
      "execution_count": 0,
      "outputs": [
        {
          "output_type": "execute_result",
          "data": {
            "text/plain": [
              "Text(0, 0.5, 'Type')"
            ]
          },
          "metadata": {
            "tags": []
          },
          "execution_count": 26
        },
        {
          "output_type": "display_data",
          "data": {
            "image/png": "[encoded data removed]",
            "text/plain": [
              "<Figure size 432x288 with 1 Axes>"
            ]
          },
          "metadata": {
            "tags": []
          }
        }
      ]
    },
    {
      "cell_type": "markdown",
      "metadata": {
        "id": "wzM1TnaA--yo",
        "colab_type": "text"
      },
      "source": [
        "##Some more data exploration (not used in report)"
      ]
    },
    {
      "cell_type": "code",
      "metadata": {
        "id": "pottIFSoTYJ8",
        "colab_type": "code",
        "outputId": "b5460f9d-3aff-4b72-91fd-81709bd0ad69",
        "colab": {
          "base_uri": "https://localhost:8080/",
          "height": 34
        }
      },
      "source": [
        "# Split data by date 2 ways: by month and by general season (Summer, Fall, Winter, Spring)\n",
        "\n",
        "dates = []\n",
        "\n",
        "for i in data['Date']:\n",
        "  dates.append(i.split('-'))\n",
        "print(dates[0:5])"
      ],
      "execution_count": 0,
      "outputs": [
        {
          "output_type": "stream",
          "text": [
            "[['2015', '12', '27'], ['2015', '12', '20'], ['2015', '12', '13'], ['2015', '12', '06'], ['2015', '11', '29']]\n"
          ],
          "name": "stdout"
        }
      ]
    },
    {
      "cell_type": "code",
      "metadata": {
        "id": "_QhC80exUGva",
        "colab_type": "code",
        "outputId": "763db2ac-086a-4cdb-e4a5-3257ab1c8889",
        "colab": {
          "base_uri": "https://localhost:8080/",
          "height": 286
        }
      },
      "source": [
        "# Separate by month first and average by month (as we dont know if there are\n",
        "# equal number of data points for each month)\n",
        "month_price = np.zeros(12)\n",
        "counts = np.zeros(12)\n",
        "for i, n in enumerate(dates):\n",
        "  month_price[int(n[1]) - 1] += price[i]\n",
        "  counts[int(n[1]) - 1] += 1\n",
        "month_price /= counts\n",
        "# Shift the frame here a little so we can see the trend in the data\n",
        "index = [9,10,11,0,1,2,3,4,5,6,7,8]\n",
        "plt.scatter(range(12), month_price[index])\n",
        "plt.xlabel(\"Month\")\n",
        "plt.ylabel(\"Averaged Price\")\n",
        "plt.plot(\"Avocado Price by Month\")\n",
        "\n",
        "# This clearly doesn't look linear, so we would have to do some non-linear regrassion\n",
        "# or some type of data normalization (looks pretty parabolic)"
      ],
      "execution_count": 0,
      "outputs": [
        {
          "output_type": "execute_result",
          "data": {
            "text/plain": [
              "<matplotlib.collections.PathCollection at 0x7f8200eb69b0>"
            ]
          },
          "metadata": {
            "tags": []
          },
          "execution_count": 4
        },
        {
          "output_type": "display_data",
          "data": {
            "image/png": "[encoded data removed]",
            "text/plain": [
              "<Figure size 432x288 with 1 Axes>"
            ]
          },
          "metadata": {
            "tags": []
          }
        }
      ]
    },
    {
      "cell_type": "code",
      "metadata": {
        "id": "spFuCQSEW4tS",
        "colab_type": "code",
        "outputId": "a7c9c41b-b505-4849-c8c2-96b16a327f87",
        "colab": {
          "base_uri": "https://localhost:8080/",
          "height": 286
        }
      },
      "source": [
        "# Now categorize by season\n",
        "season_price = np.zeros(4)\n",
        "for i in range(4):\n",
        "  season_price[i] = np.sum(month_price[3 * i:3 * i + 2]) / 3\n",
        "\n",
        "plt.scatter(range(4), season_price)\n",
        "plt.xlabel(\"Season\")\n",
        "plt.ylabel(\"Averaged Price\")\n",
        "plt.plot(\"Avocado Price by Season\")\n",
        "# Now this looks pretty linear, average price is higher in later seasons"
      ],
      "execution_count": 0,
      "outputs": [
        {
          "output_type": "execute_result",
          "data": {
            "text/plain": [
              "<matplotlib.collections.PathCollection at 0x7f8200e20e48>"
            ]
          },
          "metadata": {
            "tags": []
          },
          "execution_count": 5
        },
        {
          "output_type": "display_data",
          "data": {
            "image/png": "[encoded data removed]",
            "text/plain": [
              "<Figure size 432x288 with 1 Axes>"
            ]
          },
          "metadata": {
            "tags": []
          }
        }
      ]
    },
    {
      "cell_type": "markdown",
      "metadata": {
        "id": "ujQGS9kaalv7",
        "colab_type": "text"
      },
      "source": [
        "#Data Analysis and Modeling"
      ]
    },
    {
      "cell_type": "code",
      "metadata": {
        "id": "xVv7Wh4dYunm",
        "colab_type": "code",
        "colab": {}
      },
      "source": [
        "# We are going to create 2 a logistic model comparing price with avocado type.\n",
        "\n",
        "# Create a training and test data set\n",
        "train = data.sample(frac=0.8)\n",
        "test = data.drop(train.index)\n",
        "\n",
        "\n",
        "price_train = train['AveragePrice']\n",
        "price_test = test['AveragePrice']\n",
        "organic_train = []\n",
        "organic_test = []\n",
        "\n",
        "for i in train['type']:\n",
        "  if i == 'organic':\n",
        "    organic_train.append(1)\n",
        "  else:\n",
        "    organic_train.append(0)\n",
        "\n",
        "for i in test['type']:\n",
        "  if i == 'organic':\n",
        "    organic_test.append(1)\n",
        "  else:\n",
        "    organic_test.append(0)\n"
      ],
      "execution_count": 0,
      "outputs": []
    },
    {
      "cell_type": "markdown",
      "metadata": {
        "id": "YUTkpFOX858U",
        "colab_type": "text"
      },
      "source": [
        "##Logictic Model for Organic or Conventional"
      ]
    },
    {
      "cell_type": "code",
      "metadata": {
        "id": "sIb10i43ax7V",
        "colab_type": "code",
        "outputId": "225bbe44-4aba-40a4-990d-798e72de20c1",
        "colab": {
          "base_uri": "https://localhost:8080/",
          "height": 51
        }
      },
      "source": [
        "price_train = np.asarray(price_train).reshape(-1, 1)\n",
        "avofit = lm.LogisticRegression(solver='newton-cg').fit(price_train, organic_train)\n",
        "print(\"Intercept (bias): \", float(avofit.intercept_), \"\\nCoefficient: \", float(avofit.coef_))"
      ],
      "execution_count": 0,
      "outputs": [
        {
          "output_type": "stream",
          "text": [
            "Intercept (bias):  -7.148041977741811 \n",
            "Coefficient:  5.164820643368882\n"
          ],
          "name": "stdout"
        }
      ]
    },
    {
      "cell_type": "code",
      "metadata": {
        "id": "9QB0mFOKEFpl",
        "colab_type": "code",
        "outputId": "f1ac6110-38bc-422c-9a0a-84ab0b5cdb29",
        "colab": {
          "base_uri": "https://localhost:8080/",
          "height": 312
        }
      },
      "source": [
        "avo_x = np.linspace(np.asarray(price_train).min(), np.asarray(price_train).max(), len(price_train))\n",
        "avo_y = avofit.predict_proba(avo_x.reshape(-1, 1))\n",
        "plt.plot(avo_x, avo_y[:, 1] ,'r')\n",
        "plt.scatter(price_train, organic_train)\n",
        "plt.xlabel(\"Price\")\n",
        "plt.ylabel('Type')\n",
        "plt.legend([\"Computed Probability\\n Intercept (bias): -7.148\\n Coeff: 5.165\"])\n",
        "plt.title(\"Avocado Price Based on Type\")"
      ],
      "execution_count": 0,
      "outputs": [
        {
          "output_type": "execute_result",
          "data": {
            "text/plain": [
              "Text(0.5, 1.0, 'Avocado Price Based on Type')"
            ]
          },
          "metadata": {
            "tags": []
          },
          "execution_count": 28
        },
        {
          "output_type": "display_data",
          "data": {
            "image/png": "[encoded data removed]",
            "text/plain": [
              "<Figure size 432x288 with 1 Axes>"
            ]
          },
          "metadata": {
            "tags": []
          }
        }
      ]
    },
    {
      "cell_type": "code",
      "metadata": {
        "id": "CVr0d181Ebsg",
        "colab_type": "code",
        "outputId": "34afdb07-93f3-4603-a4a2-54c13fdcb5aa",
        "colab": {
          "base_uri": "https://localhost:8080/",
          "height": 590
        }
      },
      "source": [
        "# Test model accuracy using the held out testing data\n",
        "\n",
        "organic_predict = avofit.predict(np.asarray(price_test).reshape(-1, 1))\n",
        "plt.scatter(price_test, organic_predict)\n",
        "plt.legend([\"Predicted Type Based on Price\"])\n",
        "plt.xlabel('Price')\n",
        "plt.ylabel('Type')\n",
        "plt.title('Predicted Avocado Price Based on Type')\n",
        "plt.figure()\n",
        "plt.scatter(price_test, organic_test)\n",
        "plt.legend([\"Actual Type and Price\"])\n",
        "plt.xlabel('Price')\n",
        "plt.ylabel('Type')\n",
        "plt.title('Actual Avocado Price')\n",
        "accuracy = 0\n",
        "for i in range(len(organic_test)):\n",
        "  if organic_test[i] == organic_predict[i]:\n",
        "    accuracy += 1\n",
        "print(\"Accuracy: \", accuracy / len(price_test) * 100, \"%\")"
      ],
      "execution_count": 0,
      "outputs": [
        {
          "output_type": "stream",
          "text": [
            "Accuracy:  79.53424657534246 %\n"
          ],
          "name": "stdout"
        },
        {
          "output_type": "display_data",
          "data": {
            "image/png": "[encoded data removed]",
            "text/plain": [
              "<Figure size 432x288 with 1 Axes>"
            ]
          },
          "metadata": {
            "tags": []
          }
        },
        {
          "output_type": "display_data",
          "data": {
            "image/png": "[encoded data removed]",
            "text/plain": [
              "<Figure size 432x288 with 1 Axes>"
            ]
          },
          "metadata": {
            "tags": []
          }
        }
      ]
    },
    {
      "cell_type": "code",
      "metadata": {
        "id": "T1N_4_Hw_nUd",
        "colab_type": "code",
        "outputId": "12d5abda-aba1-420c-eb7a-f1eba4610911",
        "colab": {
          "base_uri": "https://localhost:8080/",
          "height": 357
        }
      },
      "source": [
        "print(\"Classification Report of the testing data:\")\n",
        "print(skl.metrics.classification_report(organic_test, organic_predict))\n",
        "print(\"Classification Report of the training data:\")\n",
        "print(skl.metrics.classification_report(organic_train, avofit.predict(np.asarray(price_train).reshape(-1, 1))))\n",
        "# Looks like the precision and recall are similar so we probably avoided overfitting. "
      ],
      "execution_count": 0,
      "outputs": [
        {
          "output_type": "stream",
          "text": [
            "Classification Report of the testing data:\n",
            "              precision    recall  f1-score   support\n",
            "\n",
            "           0       0.78      0.82      0.80      1814\n",
            "           1       0.81      0.77      0.79      1836\n",
            "\n",
            "    accuracy                           0.80      3650\n",
            "   macro avg       0.80      0.80      0.80      3650\n",
            "weighted avg       0.80      0.80      0.80      3650\n",
            "\n",
            "Classification Report of the training data:\n",
            "              precision    recall  f1-score   support\n",
            "\n",
            "           0       0.80      0.81      0.80      7312\n",
            "           1       0.81      0.79      0.80      7287\n",
            "\n",
            "    accuracy                           0.80     14599\n",
            "   macro avg       0.80      0.80      0.80     14599\n",
            "weighted avg       0.80      0.80      0.80     14599\n",
            "\n"
          ],
          "name": "stdout"
        }
      ]
    },
    {
      "cell_type": "code",
      "metadata": {
        "id": "2MvB0GE4ARcL",
        "colab_type": "code",
        "colab": {}
      },
      "source": [
        ""
      ],
      "execution_count": 0,
      "outputs": []
    }
  ]
}